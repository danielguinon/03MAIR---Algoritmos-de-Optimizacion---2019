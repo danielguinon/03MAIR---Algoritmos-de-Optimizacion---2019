{
  "nbformat": 4,
  "nbformat_minor": 0,
  "metadata": {
    "colab": {
      "name": "Daniel Guiñón AG1.ipynb",
      "provenance": [],
      "collapsed_sections": [],
      "include_colab_link": true
    },
    "kernelspec": {
      "name": "python3",
      "display_name": "Python 3"
    }
  },
  "cells": [
    {
      "cell_type": "markdown",
      "metadata": {
        "id": "view-in-github",
        "colab_type": "text"
      },
      "source": [
        "<a href=\"https://colab.research.google.com/github/danielguinon/03MAIR---Algoritmos-de-Optimizacion---2019/blob/master/AG1/Daniel_Gui%C3%B1%C3%B3n_AG1.ipynb\" target=\"_parent\"><img src=\"https://colab.research.google.com/assets/colab-badge.svg\" alt=\"Open In Colab\"/></a>"
      ]
    },
    {
      "cell_type": "markdown",
      "metadata": {
        "id": "TPHK4OrNoClE",
        "colab_type": "text"
      },
      "source": [
        "# Torres de Hanoy (con recursion)"
      ]
    },
    {
      "cell_type": "code",
      "metadata": {
        "id": "4_Syy93q8xmz",
        "colab_type": "code",
        "outputId": "b08d7a8a-5c2e-41d0-8363-b7459f1f52d9",
        "colab": {
          "base_uri": "https://localhost:8080/",
          "height": 544
        }
      },
      "source": [
        "def torres(N, desde, hasta, aux):\n",
        "    if N == 1:\n",
        "        print(f'Llevar desde {desde} hasta {hasta}')\n",
        "    else:\n",
        "        torres(N-1, desde, aux, hasta)\n",
        "        print(f'Llevar desde {desde} hasta {hasta}')\n",
        "        torres(N-1, aux, hasta, desde)\n",
        "\n",
        "torres(5, 1, 3, 2)\n"
      ],
      "execution_count": 11,
      "outputs": [
        {
          "output_type": "stream",
          "text": [
            "Llevar desde 1 hasta 3\n",
            "Llevar desde 1 hasta 2\n",
            "Llevar desde 3 hasta 2\n",
            "Llevar desde 1 hasta 3\n",
            "Llevar desde 2 hasta 1\n",
            "Llevar desde 2 hasta 3\n",
            "Llevar desde 1 hasta 3\n",
            "Llevar desde 1 hasta 2\n",
            "Llevar desde 3 hasta 2\n",
            "Llevar desde 3 hasta 1\n",
            "Llevar desde 2 hasta 1\n",
            "Llevar desde 3 hasta 2\n",
            "Llevar desde 1 hasta 3\n",
            "Llevar desde 1 hasta 2\n",
            "Llevar desde 3 hasta 2\n",
            "Llevar desde 1 hasta 3\n",
            "Llevar desde 2 hasta 1\n",
            "Llevar desde 2 hasta 3\n",
            "Llevar desde 1 hasta 3\n",
            "Llevar desde 2 hasta 1\n",
            "Llevar desde 3 hasta 2\n",
            "Llevar desde 3 hasta 1\n",
            "Llevar desde 2 hasta 1\n",
            "Llevar desde 2 hasta 3\n",
            "Llevar desde 1 hasta 3\n",
            "Llevar desde 1 hasta 2\n",
            "Llevar desde 3 hasta 2\n",
            "Llevar desde 1 hasta 3\n",
            "Llevar desde 2 hasta 1\n",
            "Llevar desde 2 hasta 3\n",
            "Llevar desde 1 hasta 3\n"
          ],
          "name": "stdout"
        }
      ]
    },
    {
      "cell_type": "markdown",
      "metadata": {
        "id": "CKD-16bVoX_5",
        "colab_type": "text"
      },
      "source": [
        "# Problema de las N reinas (Backtracking)"
      ]
    },
    {
      "cell_type": "code",
      "metadata": {
        "id": "KnHVz67xlSix",
        "colab_type": "code",
        "outputId": "880edb50-06c1-412d-e1fc-3aed48fe8831",
        "colab": {
          "base_uri": "https://localhost:8080/",
          "height": 255
        }
      },
      "source": [
        "class N_Queens:\n",
        "\n",
        "    def __init__(self, size):\n",
        "        # Tamaño del tablero (size) y soluciones válidas (solutions)\n",
        "        self.size = size\n",
        "        self.solutions = 0\n",
        "        self.solve()\n",
        "    \n",
        "    def solve(self):\n",
        "        positions = [-1] * self.size\n",
        "        self.place_queen(positions, 0)\n",
        "        print(\"Encontradas\", self.solutions, \"soluciones válidas para n =\", n)\n",
        " \n",
        "    def place_queen(self, positions, row):\n",
        "        if row == self.size:\n",
        "            self.show_board(positions)\n",
        "            self.solutions += 1\n",
        "        else: # Colocar reina y rechazar las posiciones no válidas\n",
        "            for col in range(self.size):\n",
        "                if self.check_place(positions, row, col):\n",
        "                    positions[row] = col\n",
        "                    self.place_queen(positions, row + 1)\n",
        "\n",
        "    # Comprobar que la posición es correcta\n",
        "    def check_place(self, positions, ocuppied_rows, col):\n",
        "        for i in range(ocuppied_rows):\n",
        "            if positions[i] == col or positions[i] - i == col - ocuppied_rows \\\n",
        "                or positions[i] + i == col + ocuppied_rows:\n",
        "                return False\n",
        "        return True\n",
        " \n",
        "    def show_board(self, positions):\n",
        "        for row in range(self.size):\n",
        "            string = \"\"\n",
        "            for col in range(self.size):\n",
        "                if positions[row] == col:\n",
        "                    string += \" 1 \"\n",
        "                else:\n",
        "                    string += \" 0 \"\n",
        "            print(string)\n",
        "        print(\"\\n\")\n",
        " \n",
        "\n",
        "\n",
        "n = int(input('Entra el valor de n: '))\n",
        "def main():\n",
        "    N_Queens(n)\n",
        "\n",
        "main()\n",
        "        "
      ],
      "execution_count": 12,
      "outputs": [
        {
          "output_type": "stream",
          "text": [
            "Entra el valor de n: 4\n",
            " 0  1  0  0 \n",
            " 0  0  0  1 \n",
            " 1  0  0  0 \n",
            " 0  0  1  0 \n",
            "\n",
            "\n",
            " 0  0  1  0 \n",
            " 1  0  0  0 \n",
            " 0  0  0  1 \n",
            " 0  1  0  0 \n",
            "\n",
            "\n",
            "Encontradas 2 soluciones válidas para n = 4\n"
          ],
          "name": "stdout"
        }
      ]
    }
  ]
}