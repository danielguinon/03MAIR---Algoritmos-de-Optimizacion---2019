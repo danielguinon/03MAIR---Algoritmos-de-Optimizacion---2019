{
  "nbformat": 4,
  "nbformat_minor": 0,
  "metadata": {
    "colab": {
      "name": "Untitled0.ipynb",
      "provenance": [],
      "collapsed_sections": [],
      "include_colab_link": true
    },
    "kernelspec": {
      "name": "python3",
      "display_name": "Python 3"
    }
  },
  "cells": [
    {
      "cell_type": "markdown",
      "metadata": {
        "id": "view-in-github",
        "colab_type": "text"
      },
      "source": [
        "<a href=\"https://colab.research.google.com/github/danielguinon/03MAIR---Algoritmos-de-Optimizacion---2019/blob/master/AG1/Daniel_Gui%C3%B1%C3%B3n_AG1.ipynb\" target=\"_parent\"><img src=\"https://colab.research.google.com/assets/colab-badge.svg\" alt=\"Open In Colab\"/></a>"
      ]
    },
    {
      "cell_type": "markdown",
      "metadata": {
        "id": "TPHK4OrNoClE",
        "colab_type": "text"
      },
      "source": [
        "# Torres de Hanoy (con recursion)"
      ]
    },
    {
      "cell_type": "code",
      "metadata": {
        "id": "4_Syy93q8xmz",
        "colab_type": "code",
        "colab": {
          "base_uri": "https://localhost:8080/",
          "height": 544
        },
        "outputId": "e67a4f0a-809d-44ab-a498-044f26ccb340"
      },
      "source": [
        "def torres(N, desde, hasta, aux):\n",
        "    if N == 1:\n",
        "        print(f'Llevar desde {desde} hasta {hasta}')\n",
        "    else:\n",
        "        torres(N-1, desde, aux, hasta)\n",
        "        print(f'Llevar desde {desde} hasta {hasta}')\n",
        "        torres(N-1, aux, hasta, desde)\n",
        "\n",
        "torres(5, 1, 3, 2)\n"
      ],
      "execution_count": 1,
      "outputs": [
        {
          "output_type": "stream",
          "text": [
            "Llevar desde 1 hasta 3\n",
            "Llevar desde 1 hasta 2\n",
            "Llevar desde 3 hasta 2\n",
            "Llevar desde 1 hasta 3\n",
            "Llevar desde 2 hasta 1\n",
            "Llevar desde 2 hasta 3\n",
            "Llevar desde 1 hasta 3\n",
            "Llevar desde 1 hasta 2\n",
            "Llevar desde 3 hasta 2\n",
            "Llevar desde 3 hasta 1\n",
            "Llevar desde 2 hasta 1\n",
            "Llevar desde 3 hasta 2\n",
            "Llevar desde 1 hasta 3\n",
            "Llevar desde 1 hasta 2\n",
            "Llevar desde 3 hasta 2\n",
            "Llevar desde 1 hasta 3\n",
            "Llevar desde 2 hasta 1\n",
            "Llevar desde 2 hasta 3\n",
            "Llevar desde 1 hasta 3\n",
            "Llevar desde 2 hasta 1\n",
            "Llevar desde 3 hasta 2\n",
            "Llevar desde 3 hasta 1\n",
            "Llevar desde 2 hasta 1\n",
            "Llevar desde 2 hasta 3\n",
            "Llevar desde 1 hasta 3\n",
            "Llevar desde 1 hasta 2\n",
            "Llevar desde 3 hasta 2\n",
            "Llevar desde 1 hasta 3\n",
            "Llevar desde 2 hasta 1\n",
            "Llevar desde 2 hasta 3\n",
            "Llevar desde 1 hasta 3\n"
          ],
          "name": "stdout"
        }
      ]
    },
    {
      "cell_type": "markdown",
      "metadata": {
        "id": "CKD-16bVoX_5",
        "colab_type": "text"
      },
      "source": [
        "# Problema de las N reinas (Backtracking)"
      ]
    },
    {
      "cell_type": "code",
      "metadata": {
        "id": "k8pkE8jPDF2U",
        "colab_type": "code",
        "colab": {
          "base_uri": "https://localhost:8080/",
          "height": 306
        },
        "outputId": "1369d7eb-c572-4e0e-c4fa-1b5995a35c4e"
      },
      "source": [
        "def valid(solucion, etapa):\n",
        "    for i in range(etapa + 1):\n",
        "        if solucion.count(solucion[i]) > 1:\n",
        "            return False\n",
        "        for j in range(i + 1, etapa + 1):\n",
        "            if abs(i-j) == abs(solucion[i - solucion[j]]):\n",
        "                return False\n",
        "    return True\n",
        "\n",
        "def reinas(N, solucion, etapa):\n",
        "    \n",
        "    for i in range(1, N + 1):\n",
        "        solucion[etapa] = i\n",
        "        \n",
        "        if valid(solucion, etapa):\n",
        "            if etapa == N-1:\n",
        "                print(\"\\n\\nLa solución es:\")\n",
        "                print(solucion)\n",
        "            else:\n",
        "                reinas(N, solucion, etapa + 1)\n",
        "        else:\n",
        "            None\n",
        "            \n",
        "        solucion[etapa] = 0\n",
        "                \n",
        "print(reinas(4, [0,0,0,0], 0))\n",
        "        "
      ],
      "execution_count": 14,
      "outputs": [
        {
          "output_type": "stream",
          "text": [
            "\n",
            "\n",
            "La solución es:\n",
            "[1, 2, 4, 3]\n",
            "\n",
            "\n",
            "La solución es:\n",
            "[2, 1, 3, 4]\n",
            "\n",
            "\n",
            "La solución es:\n",
            "[2, 4, 1, 3]\n",
            "\n",
            "\n",
            "La solución es:\n",
            "[3, 2, 4, 1]\n",
            "None\n"
          ],
          "name": "stdout"
        }
      ]
    }
  ]
}