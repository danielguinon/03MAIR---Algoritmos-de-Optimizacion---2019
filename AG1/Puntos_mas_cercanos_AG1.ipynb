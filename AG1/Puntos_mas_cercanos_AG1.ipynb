{
  "nbformat": 4,
  "nbformat_minor": 0,
  "metadata": {
    "colab": {
      "name": "Puntos mas cercanos AG1.ipynb",
      "provenance": [],
      "collapsed_sections": [],
      "include_colab_link": true
    },
    "kernelspec": {
      "name": "python3",
      "display_name": "Python 3"
    }
  },
  "cells": [
    {
      "cell_type": "markdown",
      "metadata": {
        "id": "view-in-github",
        "colab_type": "text"
      },
      "source": [
        "<a href=\"https://colab.research.google.com/github/danielguinon/03MAIR---Algoritmos-de-Optimizacion---2019/blob/master/AG1/Puntos_mas_cercanos_AG1.ipynb\" target=\"_parent\"><img src=\"https://colab.research.google.com/assets/colab-badge.svg\" alt=\"Open In Colab\"/></a>"
      ]
    },
    {
      "cell_type": "markdown",
      "metadata": {
        "id": "FXTxE3s5G-qQ",
        "colab_type": "text"
      },
      "source": [
        "# Problema: Encontrar los dos puntos más cercanos\n",
        "\n",
        "* Implementación del algoritmo de fuerza bruta para el problema de los puntos más cercanos en 1D."
      ]
    },
    {
      "cell_type": "code",
      "metadata": {
        "id": "jYgNscdOG128",
        "colab_type": "code",
        "outputId": "010f3de3-d9f4-4605-88ed-55f44cd61040",
        "colab": {
          "base_uri": "https://localhost:8080/",
          "height": 34
        }
      },
      "source": [
        "import math\n",
        "\n",
        "def closest_pair_1d_BF(lista):\n",
        "    mindistance = math.inf\n",
        "    for i in range(len(lista)-1):\n",
        "        for j in range(i+1, len(lista)):\n",
        "            p = lista[i]\n",
        "            q = lista[j]\n",
        "            x = abs(p-q)\n",
        "            if x < mindistance:\n",
        "                mindistance = x\n",
        "                closest_pair = (p,q)\n",
        "    return closest_pair\n",
        "\n",
        "lista = [3403, 4537, 9089, 9746, 7259, 7258, 7]\n",
        "print(closest_pair_1d_BF(lista))"
      ],
      "execution_count": 0,
      "outputs": [
        {
          "output_type": "stream",
          "text": [
            "(7259, 7258)\n"
          ],
          "name": "stdout"
        }
      ]
    },
    {
      "cell_type": "markdown",
      "metadata": {
        "id": "Gtl8rW9mHFA6",
        "colab_type": "text"
      },
      "source": [
        "Tiempo computacional de $O(n^2)$, ya que se requiere iterar por toda la lista dos veces. \n",
        "* Implementación del algoritmo de divide y vencerás para el problema de los puntos más cercanos en 1D."
      ]
    },
    {
      "cell_type": "code",
      "metadata": {
        "id": "JPq0Gl36HJt8",
        "colab_type": "code",
        "outputId": "60778e74-b0ff-4b2c-909a-5b3e43a5f894",
        "colab": {
          "base_uri": "https://localhost:8080/",
          "height": 34
        }
      },
      "source": [
        "def sorting_by_index(lista):\n",
        "    return [u for (u, i) in sorted(enumerate(lista), key = lambda p: p[1])]\n",
        "\n",
        "def distance(i, j, lista):\n",
        "    return abs(lista[i]-lista[j])\n",
        "\n",
        "def closest_pair_1d_DaC(lista):  \n",
        "    s_x = sorting_by_index(lista)\n",
        "    def recursion(i, j):\n",
        "        if i >= j:\n",
        "            return None\n",
        "        elif i + 1 == j:\n",
        "            return (s_x[i], s_x[j])\n",
        "        else:\n",
        "            m = (i + j) // 2\n",
        "            m1 = recursion(i, m)\n",
        "            m2 = recursion(m, j)\n",
        "            (m1_i, m1_j) = m1\n",
        "            (m2_i, m2_j) = m2\n",
        "            if m1 is None:\n",
        "                (min_i, min_j) = m2\n",
        "            elif m2 is None:\n",
        "                (min_i, min_j) = m1\n",
        "            else:\n",
        "                d_left = distance(m1_i, m1_j, lista)\n",
        "                d_right = distance(m2_i, m2_j, lista)\n",
        "                if d_left < d_right:\n",
        "                    (min_i, min_j) = m1\n",
        "                else:\n",
        "                    (min_i, min_j) = m2\n",
        "            return (min_i, min_j)\n",
        "    return recursion(0, len(lista) - 1)\n",
        "\n",
        "lista = [3403, 4537, 9089, 9746, 7259, 7258, 7]\n",
        "x = closest_pair_1d_DaC(lista)\n",
        "print((lista[x[0]], lista[x[1]]))"
      ],
      "execution_count": 0,
      "outputs": [
        {
          "output_type": "stream",
          "text": [
            "(7258, 7259)\n"
          ],
          "name": "stdout"
        }
      ]
    },
    {
      "cell_type": "markdown",
      "metadata": {
        "id": "2Mblauc7HXPa",
        "colab_type": "text"
      },
      "source": [
        "La relación de recursión para el numero de operaciones es $T(n) = 2T(\\frac{n}{2})+O(n)$. Asumiendo que usamos un algoritmo de sorting de $O(n\\log{n})$ y aplicando el teorema maestro en análisis de algoritmos obtenemos un tiempo computacional de $O(n\\log{n})$, el cual mejora el del algoritmo de fuerza bruta.\n",
        "* Implementación del algoritmo de fuerza bruta para el problema de los puntos más cercanos en 2D."
      ]
    },
    {
      "cell_type": "code",
      "metadata": {
        "id": "OARA8qW0HYWv",
        "colab_type": "code",
        "outputId": "7fea7112-9b94-4e13-8d08-7682dd84d1bb",
        "colab": {
          "base_uri": "https://localhost:8080/",
          "height": 34
        }
      },
      "source": [
        "def euclidean_distance(lista, i, j):\n",
        "    return math.sqrt((lista[i][0] - lista[j][0])**2 + (lista[i][1] - lista[j][1])**2)\n",
        "\n",
        "def minDistanceFunction(lista):\n",
        "    if len(lista) < 2:\n",
        "        return(math.inf)\n",
        "    else:\n",
        "        minDistance = euclidean_distance(lista, 0, 1)\n",
        "        minPoints = (lista[0], lista[1])\n",
        "        for i in range(len(lista)-1):\n",
        "            for j in range(i + 1, len(lista)):\n",
        "                if euclidean_distance(lista, i, j) < minDistance:\n",
        "                    minDistance = euclidean_distance(lista, i, j)\n",
        "                    minPoints = (lista[i], lista[j])\n",
        "        return(minDistance, minPoints)\n",
        "    \n",
        "lista = [(1,2),(2,7),(4,2),(5,7),(6,4),(7,7),(3,7),(9,3),(9,1)]\n",
        "print(minDistanceFunction(lista))"
      ],
      "execution_count": 0,
      "outputs": [
        {
          "output_type": "stream",
          "text": [
            "(1.0, ((2, 7), (3, 7)))\n"
          ],
          "name": "stdout"
        }
      ]
    },
    {
      "cell_type": "markdown",
      "metadata": {
        "id": "iUzwc5P8HeyC",
        "colab_type": "text"
      },
      "source": [
        "Implementación del algoritmo de divide y vencerás en 2D."
      ]
    },
    {
      "cell_type": "code",
      "metadata": {
        "id": "7wxQvcNPHguV",
        "colab_type": "code",
        "outputId": "d973b2af-69da-4544-a8ae-8036817333ef",
        "colab": {
          "base_uri": "https://localhost:8080/",
          "height": 51
        }
      },
      "source": [
        "def sorting_by_index_x(lista):\n",
        "    return [i for (i,u) in sorted(enumerate(lista), key = lambda p: p[1][0])]\n",
        "\n",
        "def sorting_by_index_y(lista):\n",
        "    return [i for (i,u) in sorted(enumerate(lista), key = lambda p: p[1][1])]\n",
        "\n",
        "def distance(u,v):\n",
        "    return math.sqrt((u[0] - v[0])**2 + (u[1] - v[1])**2)\n",
        "                     \n",
        "def closest_pair_2d_DaC(lista):            \n",
        "    x_i = sorting_by_index_x(lista)\n",
        "    y_i = sorting_by_index_y(lista)\n",
        "    def recursion(i, j):        \n",
        "        if i >= j:\n",
        "            return None\n",
        "        elif i + 1 == j:\n",
        "            return (x_i[i], x_i[j])\n",
        "        else: \n",
        "            m = (i + j) // 2\n",
        "            m1 = recursion(i, m)\n",
        "            m2 = recursion(m + 1, j)\n",
        "            if m1 is None:\n",
        "                (min_i, min_j) = m2\n",
        "            elif m2 is None:\n",
        "                (min_i, min_j) = m1\n",
        "            else:\n",
        "                (m1_i, m1_j) = m1\n",
        "                (m2_i, m2_j) = m2\n",
        "                d_left = distance(lista[m1_i], lista[m1_j])\n",
        "                d_right = distance(lista[m2_i], lista[m2_j])\n",
        "                if d_left < d_right:\n",
        "                    (min_i, min_j) = (m1_i, m1_j)\n",
        "                else:\n",
        "                    (min_i, min_j) = (m2_i, m2_j)\n",
        "            D = distance(lista[min_i], lista[min_j])\n",
        "            delta = (lista[x_i[m]][0] + lista[x_i[m + 1]][0]) / 2\n",
        "            area = [j for j in y_i if abs(lista[j][0] - delta) <= D]\n",
        "            for p in range(len(area)):\n",
        "                contador = p + 1\n",
        "                while contador < len(area) and (lista[y_i[contador]][1] - lista[y_i[p]][1]) < D and contador - p <= 7: \n",
        " # Demostración de la justificación del 7 http://people.csail.mit.edu/indyk/6.838-old/handouts/lec17.pdf\n",
        "                    E = distance(lista[y_i[p]], lista[y_i[contador]])\n",
        "                    if E < D:\n",
        "                        D = E\n",
        "                        min_i = p\n",
        "                        min_j = contador\n",
        "                    contador = contador + 1                  \n",
        "            return (min_i, min_j)\n",
        "    return recursion(0, len(lista) - 1)\n",
        "\n",
        "lista = [(1,2),(2,7),(4,2),(3,7),(6,4),(7,7),(5,7) ,(9,3)]\n",
        "x = closest_pair_2d_DaC(lista)\n",
        "print(x)\n",
        "print((lista[x[0]], lista[x[1]]))\n"
      ],
      "execution_count": 0,
      "outputs": [
        {
          "output_type": "stream",
          "text": [
            "(1, 3)\n",
            "((2, 7), (3, 7))\n"
          ],
          "name": "stdout"
        }
      ]
    },
    {
      "cell_type": "markdown",
      "metadata": {
        "id": "nppg7ruMHlGr",
        "colab_type": "text"
      },
      "source": [
        "* Implementación del algoritmo de fuerza bruta para el problema de los puntos más cercanos en 3D."
      ]
    },
    {
      "cell_type": "code",
      "metadata": {
        "id": "2OgM9voWHog5",
        "colab_type": "code",
        "outputId": "44166ea8-c5d8-4308-cf74-b47d031d6afe",
        "colab": {
          "base_uri": "https://localhost:8080/",
          "height": 34
        }
      },
      "source": [
        "def euclidean_distance_3d(lista, i, j):\n",
        "    return math.sqrt((lista[i][0] - lista[j][0])**2 + (lista[i][1] - \n",
        "                        lista[j][1])**2 + (lista[i][2] - lista[j][2])**2)\n",
        "\n",
        "def minDistanceFunction(lista):\n",
        "    if len(lista) < 2:\n",
        "        return(math.inf)\n",
        "    else:\n",
        "        minDistance = euclidean_distance(lista, 0, 1)\n",
        "        minPoints = (lista[0], lista[1])\n",
        "        for i in range(len(lista)-1):\n",
        "            for j in range(i + 1, len(lista)):\n",
        "                if euclidean_distance(lista, i, j) < minDistance:\n",
        "                    minDistance = euclidean_distance(lista, i, j)\n",
        "                    minPoints = (lista[i], lista[j])\n",
        "        return(minDistance, minPoints)\n",
        "    \n",
        "lista = [(1,2,3),(2,7, 7),(4,2, 2),(5,7, 1),(6,4, 8),(7,7, 5),(3,7, 3),(9,3, 4),(9,1,4)]\n",
        "print(minDistanceFunction(lista))"
      ],
      "execution_count": 0,
      "outputs": [
        {
          "output_type": "stream",
          "text": [
            "(1.0, ((2, 7, 7), (3, 7, 3)))\n"
          ],
          "name": "stdout"
        }
      ]
    },
    {
      "cell_type": "markdown",
      "metadata": {
        "id": "jCZsRH0YYEkC",
        "colab_type": "text"
      },
      "source": [
        "Usamos la distáncia euclidea en 3D $d = \\sqrt{ (x_1-x_2)² + (y_1-y_2)² + (z_1-z_2)² }$."
      ]
    }
  ]
}