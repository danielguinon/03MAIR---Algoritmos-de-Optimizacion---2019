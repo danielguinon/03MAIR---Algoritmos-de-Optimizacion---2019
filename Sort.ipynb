{
  "nbformat": 4,
  "nbformat_minor": 0,
  "metadata": {
    "colab": {
      "name": "Sort.ipynb",
      "provenance": [],
      "include_colab_link": true
    },
    "kernelspec": {
      "name": "python3",
      "display_name": "Python 3"
    }
  },
  "cells": [
    {
      "cell_type": "markdown",
      "metadata": {
        "id": "view-in-github",
        "colab_type": "text"
      },
      "source": [
        "<a href=\"https://colab.research.google.com/github/danielguinon/03MAIR---Algoritmos-de-Optimizacion---2019/blob/master/Sort.ipynb\" target=\"_parent\"><img src=\"https://colab.research.google.com/assets/colab-badge.svg\" alt=\"Open In Colab\"/></a>"
      ]
    },
    {
      "cell_type": "code",
      "metadata": {
        "id": "ZZJOx1S6ftWK",
        "colab_type": "code",
        "outputId": "097c8066-9d9f-4126-f3dc-f865c82e704e",
        "colab": {
          "base_uri": "https://localhost:8080/",
          "height": 34
        }
      },
      "source": [
        "!pip install -q sorting"
      ],
      "execution_count": 0,
      "outputs": [
        {
          "output_type": "stream",
          "text": [
            "  Building wheel for sorting (setup.py) ... \u001b[?25l\u001b[?25hdone\n"
          ],
          "name": "stdout"
        }
      ]
    },
    {
      "cell_type": "code",
      "metadata": {
        "id": "MN3p3mMhgDtM",
        "colab_type": "code",
        "outputId": "7d3ef44c-3c7a-4f7d-e462-c593d2b730c9",
        "colab": {
          "base_uri": "https://localhost:8080/",
          "height": 34
        }
      },
      "source": [
        "import sorting\n",
        "\n",
        "lista = [4, 84, 27, 5, 4, 7, 388, 9]\n",
        "lista_ordenada = sorting.bubble(lista)\n",
        "print(lista_ordenada)"
      ],
      "execution_count": 0,
      "outputs": [
        {
          "output_type": "stream",
          "text": [
            "[4, 4, 5, 7, 9, 27, 84, 388]\n"
          ],
          "name": "stdout"
        }
      ]
    }
  ]
}