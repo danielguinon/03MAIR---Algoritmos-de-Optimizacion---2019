{
  "nbformat": 4,
  "nbformat_minor": 0,
  "metadata": {
    "colab": {
      "name": "AG2.ipynb",
      "provenance": [],
      "collapsed_sections": [],
      "authorship_tag": "ABX9TyOutPlpJHcRDxnfsORlX+t0",
      "include_colab_link": true
    },
    "kernelspec": {
      "name": "python3",
      "display_name": "Python 3"
    }
  },
  "cells": [
    {
      "cell_type": "markdown",
      "metadata": {
        "id": "view-in-github",
        "colab_type": "text"
      },
      "source": [
        "<a href=\"https://colab.research.google.com/github/danielguinon/03MAIR---Algoritmos-de-Optimizacion---2019/blob/master/AG2.ipynb\" target=\"_parent\"><img src=\"https://colab.research.google.com/assets/colab-badge.svg\" alt=\"Open In Colab\"/></a>"
      ]
    },
    {
      "cell_type": "markdown",
      "metadata": {
        "id": "_6ym2AgDp68v",
        "colab_type": "text"
      },
      "source": [
        "# Programación dinámica, ramificación/poda y descenso del gradiente\n",
        "\n",
        "### Problema del viaje por el río"
      ]
    },
    {
      "cell_type": "code",
      "metadata": {
        "id": "D6fB5bpZvkt2",
        "colab_type": "code",
        "colab": {
          "base_uri": "https://localhost:8080/",
          "height": 71
        },
        "outputId": "79928e08-36a7-4328-98c2-4a58fc64942c"
      },
      "source": [
        "import numpy as np\n",
        "\n",
        "def Precios(tarifas):\n",
        "    N = len(tarifas)\n",
        "    precios = [[9999]*N for i in [9999]*N]\n",
        "    ruta = [[\"\"]*N for i in [\"\"]*N]\n",
        "    for i in range(N-1):\n",
        "        for j in range(i+1, N):\n",
        "            minimo = tarifas[i][j]\n",
        "            ruta[i][j] = i\n",
        "            for k in range(i, j):\n",
        "                if precios[i][k] + tarifas[k][j] < minimo:\n",
        "                    minimo = min(minimo, precios[i][k] + tarifas[k][j])\n",
        "                    ruta[i][j] = k\n",
        "                precios[i][j] = minimo\n",
        "    return precios,ruta\n",
        "\n",
        "tarifa = [\n",
        "    [0,5,4,3,999,999,999],\n",
        "    [999,0,999,2,3,999,11],\n",
        "    [999,999,0,1,999,4,10],\n",
        "    [999,999,999,0,5,6,9],\n",
        "    [999,999,999,999,0,999,4],\n",
        "    [999,999,999,999,999,0,3],\n",
        "    [999,999,999,999,999,999,0]\n",
        "]\n",
        "precios, ruta = Precios(tarifa)\n",
        "print(precios)\n",
        "print(ruta)"
      ],
      "execution_count": 2,
      "outputs": [
        {
          "output_type": "stream",
          "text": [
            "[[9999, 5, 4, 3, 8, 8, 11], [9999, 9999, 999, 2, 3, 8, 7], [9999, 9999, 9999, 1, 6, 4, 7], [9999, 9999, 9999, 9999, 5, 6, 9], [9999, 9999, 9999, 9999, 9999, 999, 4], [9999, 9999, 9999, 9999, 9999, 9999, 3], [9999, 9999, 9999, 9999, 9999, 9999, 9999]]\n",
            "[['', 0, 0, 0, 1, 2, 5], ['', '', 1, 1, 1, 3, 4], ['', '', '', 2, 3, 2, 5], ['', '', '', '', 3, 3, 3], ['', '', '', '', '', 4, 4], ['', '', '', '', '', '', 5], ['', '', '', '', '', '', '']]\n"
          ],
          "name": "stdout"
        }
      ]
    },
    {
      "cell_type": "code",
      "metadata": {
        "id": "9GNDVF_qLljw",
        "colab_type": "code",
        "colab": {
          "base_uri": "https://localhost:8080/",
          "height": 68
        },
        "outputId": "f230892c-79f9-4572-995d-0577f927d658"
      },
      "source": [
        "def calcular_ruta(ruta, desde, hasta):\n",
        "    if desde == hasta:\n",
        "        return desde\n",
        "    else:\n",
        "        return str(calcular_ruta(ruta, desde, ruta[desde][hasta]))+','+str(ruta[desde][hasta])\n",
        "\n",
        "print(\"\\nLa ruta es:\")\n",
        "calcular_ruta(ruta, 0, 6)"
      ],
      "execution_count": 3,
      "outputs": [
        {
          "output_type": "stream",
          "text": [
            "\n",
            "La ruta es:\n"
          ],
          "name": "stdout"
        },
        {
          "output_type": "execute_result",
          "data": {
            "text/plain": [
              "'0,0,2,5'"
            ]
          },
          "metadata": {
            "tags": []
          },
          "execution_count": 3
        }
      ]
    },
    {
      "cell_type": "markdown",
      "metadata": {
        "id": "yg0YKWtAU2OC",
        "colab_type": "text"
      },
      "source": [
        "## Ramificación y poda\n",
        "\n",
        "Función objetivo:"
      ]
    },
    {
      "cell_type": "code",
      "metadata": {
        "id": "I1vXq47LUw-G",
        "colab_type": "code",
        "colab": {
          "base_uri": "https://localhost:8080/",
          "height": 34
        },
        "outputId": "081ca488-d8ae-44cc-8a41-60c449486567"
      },
      "source": [
        "costes = [\n",
        "    [11,12,18,40],\n",
        "    [14,15,13,22],\n",
        "    [11,17,19,23],\n",
        "    [17,14,20,28]\n",
        "]\n",
        "\n",
        "def valor(s, costes):\n",
        "    val = 0\n",
        "    for i in range(len(s)):\n",
        "        val += costes[s[i]][i]\n",
        "    return val\n",
        "valor((0,1,2,3), costes)"
      ],
      "execution_count": 4,
      "outputs": [
        {
          "output_type": "execute_result",
          "data": {
            "text/plain": [
              "73"
            ]
          },
          "metadata": {
            "tags": []
          },
          "execution_count": 4
        }
      ]
    },
    {
      "cell_type": "markdown",
      "metadata": {
        "id": "qmyl5dn3LqBv",
        "colab_type": "text"
      },
      "source": [
        "### Algoritmo de fuerza bruta\n"
      ]
    },
    {
      "cell_type": "code",
      "metadata": {
        "id": "eyX79i-mLnix",
        "colab_type": "code",
        "colab": {
          "base_uri": "https://localhost:8080/",
          "height": 34
        },
        "outputId": "844c19df-33ec-4240-ca3c-0c0c5b982f47"
      },
      "source": [
        "import itertools\n",
        "import signal\n",
        "\n",
        "def fuerza_bruta(costes):\n",
        "    mejor_valor = 10e10\n",
        "    mejor_solucion = ()\n",
        "    for s in list(itertools.permutations(range(len(costes)))):\n",
        "        valor_tmp = valor(s, costes)\n",
        "        if valor_tmp < mejor_valor:\n",
        "            mejor_valor = valor_tmp\n",
        "            mejor_solucion = s\n",
        "    print(\"La mejor solucion es:\", mejor_solucion, \"con valor:\", mejor_valor)\n",
        "    \n",
        "costes = [\n",
        "    [11,12,18,40],\n",
        "    [14,15,13,22],\n",
        "    [11,17,19,23],\n",
        "    [17,14,20,28]\n",
        "]\n",
        "\n",
        "fuerza_bruta(costes)\n",
        "\n",
        "costes2 = np.random.randint(10, size=(12,12))\n",
        "\n",
        "# fuerza_bruta(costes2)\n"
      ],
      "execution_count": 10,
      "outputs": [
        {
          "output_type": "stream",
          "text": [
            "La mejor solucion es: (0, 3, 1, 2) con valor: 61\n"
          ],
          "name": "stdout"
        }
      ]
    },
    {
      "cell_type": "markdown",
      "metadata": {
        "id": "8NvYyMLHhed0",
        "colab_type": "text"
      },
      "source": [
        "La complejidad del algoritmo de fuerza bruta es $o(n!)$, puesto que es una permutación de las n tareas. Con n > 11 el tiempo se vuelve inaceptable."
      ]
    },
    {
      "cell_type": "markdown",
      "metadata": {
        "id": "G-h3_irNVLR8",
        "colab_type": "text"
      },
      "source": [
        "### Algoritmo con programación dinámica"
      ]
    },
    {
      "cell_type": "code",
      "metadata": {
        "id": "b8_zYW1RLwY1",
        "colab_type": "code",
        "colab": {
          "base_uri": "https://localhost:8080/",
          "height": 34
        },
        "outputId": "9a6237dc-7a01-4a99-cb26-b839c95a6c95"
      },
      "source": [
        "def CI(s, costes):\n",
        "    valor = 0\n",
        "    for i in range(len(s)):\n",
        "        valor += costes[i][s[i]]\n",
        "        \n",
        "    for i in range(len(costes)):\n",
        "        if i not in s:\n",
        "            valor += min([costes[j][i] for j in range(len(s), len(costes))])\n",
        "    return valor\n",
        "\n",
        "def crear_hijos(nodo, n):\n",
        "    hijos = []\n",
        "    for i in range(n):\n",
        "        if i not in nodo:\n",
        "            hijos.append({'s': nodo +(i,)})\n",
        "    return hijos\n",
        "\n",
        "def ramificacion_y_poda(costes):\n",
        "    dimension = len(costes)\n",
        "    mejor_solucion = tuple(i for i in range(len(costes)))\n",
        "    CotaSup = valor(mejor_solucion, costes)\n",
        "    \n",
        "    nodos = []\n",
        "    nodos.append({'s':(), 'ci': CI((),costes)})\n",
        "    \n",
        "    iteracion = 0\n",
        "    \n",
        "    while(len(nodos) > 0):\n",
        "        iteracion += 1\n",
        "        nodo_prometedor = [min(nodos, key = lambda x:x['ci'])][0]['s']\n",
        "        hijos = [{'s':x['s'], 'ci':CI(x['s'], \n",
        "                  costes)} for x in crear_hijos(nodo_prometedor, dimension)]\n",
        "        nodo_final = [x for x in hijos if len(x['s']) == dimension]\n",
        "        if len(nodo_final) > 0:\n",
        "            if nodo_final[0]['ci'] < CotaSup:\n",
        "                CotaSup = nodo_final[0]['ci']\n",
        "                mejor_solucion = nodo_final\n",
        "        hijos = [x for x in hijos if x['ci'] < CotaSup]\n",
        "        nodos.extend(hijos)\n",
        "        nodos = [x for x in nodos if x['s'] != nodo_prometedor]\n",
        "    print(\"La solucion final es:\" , mejor_solucion, \"en\", iteracion,\n",
        "          \"iteraciones\", \"para dimension:\", dimension)\n",
        "\n",
        "ramificacion_y_poda(costes)\n",
        "\n",
        "costes2 = np.random.randint(10, size=(16,16))\n",
        "\n",
        "# ramificacion_y_poda(costes2)"
      ],
      "execution_count": 14,
      "outputs": [
        {
          "output_type": "stream",
          "text": [
            "La solucion final es: [{'s': (0, 2, 3, 1), 'ci': 61}] en 14 iteraciones para dimension: 4\n"
          ],
          "name": "stdout"
        }
      ]
    },
    {
      "cell_type": "markdown",
      "metadata": {
        "id": "qXg8h-nTmPTc",
        "colab_type": "text"
      },
      "source": [
        "Con el algoritmo de ramificación y poda, el límite de lo aceptable se extiende hasta 16."
      ]
    },
    {
      "cell_type": "markdown",
      "metadata": {
        "id": "zChlu1Qxri6Z",
        "colab_type": "text"
      },
      "source": [
        "## Descenso del gradiente"
      ]
    },
    {
      "cell_type": "code",
      "metadata": {
        "id": "Pb_OgjFirlMB",
        "colab_type": "code",
        "colab": {
          "base_uri": "https://localhost:8080/",
          "height": 299
        },
        "outputId": "bee2eb29-dcc9-4de5-f61f-7e0bd315b205"
      },
      "source": [
        "import math\n",
        "import matplotlib.pyplot as plt\n",
        "import numpy as np \n",
        "import random\n",
        "\n",
        "# funcion a minimizar\n",
        "f = lambda X: X[0]**2+X[1]**2\n",
        "df = lambda X: [2*X[0], 2*X[1]]\n",
        "\n",
        "resolucion = 100\n",
        "rango = 2.5 \n",
        "X = np.linspace(-rango, rango, resolucion)\n",
        "Y = np.linspace(-rango, rango, resolucion)\n",
        "Z = np.zeros((resolucion, resolucion))\n",
        "for ix, x in enumerate(X):\n",
        "    for iy, y in enumerate(Y):\n",
        "        Z[iy, ix] = f([x,y])\n",
        "plt.contourf(X, Y, Z, resolucion)\n",
        "plt.colorbar()\n",
        "\n",
        "P = [random.uniform(-2,2), random.uniform(-2, 2)]\n",
        "plt.plot(P[0], P[1], \"o\", c= \"white\")\n",
        "\n",
        "# tasa de aprendizaje\n",
        "TA = .1\n",
        "\n",
        "for _ in range(500):\n",
        "    grad = df(P)\n",
        "    P[0], P[1] = P[0] - TA*grad[0], P[1] - TA*grad[1]\n",
        "    plt.plot(P[0], P[1], \"o\", c = \"red\")\n",
        "\n",
        "plt.plot(P[0], P[1], \"o\", c = \"green\")\n",
        "plt.show()\n",
        "print(\"Solucion:\", P, f(P))\n",
        "\n",
        "f = lambda X: np.sin(1/2 * X[0] ** 2 -1/4 * X[1]**2 + 3) * np.cos(2*X[0] +1 - np.e**X[1])\n",
        "\n",
        "def df(punto):\n",
        "    h = 0.01\n",
        "    T = np.copy(punto)\n",
        "    grad = np.zeros(2)\n",
        "    for it, th in enumerate(punto):\n",
        "        T[it] = T[it] + h\n",
        "        grad[it] = (f(T) - f(punto))/h\n",
        "    return grad\n",
        "\n",
        "df([7,6])"
      ],
      "execution_count": 17,
      "outputs": [
        {
          "output_type": "display_data",
          "data": {
            "image/png": "[encoded data removed]",
            "text/plain": [
              "<Figure size 432x288 with 2 Axes>"
            ]
          },
          "metadata": {
            "tags": []
          }
        },
        {
          "output_type": "stream",
          "text": [
            "Solucion: [6.301375642505974e-49, 3.766302216546486e-49] 5.389236737433054e-97\n"
          ],
          "name": "stdout"
        },
        {
          "output_type": "execute_result",
          "data": {
            "text/plain": [
              "array([0., 0.])"
            ]
          },
          "metadata": {
            "tags": []
          },
          "execution_count": 17
        }
      ]
    }
  ]
}